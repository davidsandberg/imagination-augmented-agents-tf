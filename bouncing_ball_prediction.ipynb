{
 "cells": [
  {
   "cell_type": "code",
   "execution_count": null,
   "metadata": {},
   "outputs": [],
   "source": [
    "import pickle\n",
    "import numpy as np\n",
    "import matplotlib.pyplot as plt\n",
    "import matplotlib\n",
    "import tensorflow as tf\n",
    "import os\n",
    "%matplotlib inline"
   ]
  },
  {
   "cell_type": "code",
   "execution_count": null,
   "metadata": {
    "collapsed": true
   },
   "outputs": [],
   "source": [
    "def load_pickle(filename):\n",
    "    with open(filename, 'rb') as f:\n",
    "        arr = pickle.load(f)\n",
    "    return arr"
   ]
  },
  {
   "cell_type": "code",
   "execution_count": null,
   "metadata": {},
   "outputs": [],
   "source": [
    "test = load_pickle(os.path.join('data', 'bouncing_balls_testing_data.pkl'))\n",
    "test = np.repeat(np.expand_dims(test, 4), 3, axis=4)\n",
    "\n",
    "test.shape"
   ]
  },
  {
   "cell_type": "code",
   "execution_count": null,
   "metadata": {},
   "outputs": [],
   "source": [
    "def show_sequence(arr):\n",
    "    plt.rcParams['figure.figsize'] = [15, 8]\n",
    "    batch, length, width, height, depth = arr.shape\n",
    "    out = np.zeros((batch*height, length*width, depth))\n",
    "    for x in range(length):\n",
    "        for y in range(batch):\n",
    "            #out[x*width:(x+1)*width,y*height:(y+1)*height,:] = arr[y,x,:,:,:]\n",
    "            out[y*height:(y+1)*height,x*width:(x+1)*width,:] = arr[y,x,:,:,:]\n",
    "    out[0::height,:,:] = 1.0\n",
    "    out[:,0::width,:] = 1.0\n",
    "    out[1::height,:,:] = 1.0\n",
    "    out[:,1::width,:] = 1.0\n",
    "    #fig=plt.figure(figsize=(18, 16)\n",
    "    plt.imshow(out,cmap=matplotlib.cm.Greys_r)"
   ]
  },
  {
   "cell_type": "code",
   "execution_count": null,
   "metadata": {},
   "outputs": [],
   "source": [
    "show_sequence(test[:3,:10,:,:,:])"
   ]
  },
  {
   "cell_type": "code",
   "execution_count": null,
   "metadata": {
    "collapsed": true
   },
   "outputs": [],
   "source": [
    "tf.reset_default_graph()"
   ]
  },
  {
   "cell_type": "code",
   "execution_count": null,
   "metadata": {},
   "outputs": [],
   "source": [
    "import train_env_model as model\n",
    "\n",
    "tf.reset_default_graph()\n",
    "\n",
    "length, width, height, depth = (13, 80, 80, 3)\n",
    "obs_ph = tf.placeholder(tf.float32, [None, length, width, height, depth])\n",
    "actions_ph = tf.placeholder(tf.int32, [None, length])\n",
    "is_inference_ph = tf.placeholder(tf.bool, ())\n",
    "\n",
    "with tf.variable_scope('env_model'):\n",
    "    m = model.EnvModel(is_inference_ph, obs_ph, actions_ph, 1, 10)\n",
    "saver = tf.train.Saver()\n"
   ]
  },
  {
   "cell_type": "code",
   "execution_count": null,
   "metadata": {},
   "outputs": [],
   "source": [
    "checkpoint = '/home/david/git/imagination-augmented-agents-tf/checkpoints/20190119-135416-18750'\n",
    "with tf.Session() as sess:\n",
    "    saver.restore(sess, checkpoint)\n",
    "    \n",
    "    obs = test[0:10,:13,:,:,:]\n",
    "    actions = np.zeros((10,13), dtype=np.float32)\n",
    "    is_inference = False\n",
    "    \n",
    "    feed_dict = {is_inference_ph:is_inference, obs_ph:obs, actions_ph:actions}\n",
    "    \n",
    "    obs_hat_ = sess.run(m.obs_hat, feed_dict=feed_dict)"
   ]
  },
  {
   "cell_type": "code",
   "execution_count": null,
   "metadata": {},
   "outputs": [],
   "source": [
    "show_sequence(obs_hat_[:3,:10,:,:,:])"
   ]
  },
  {
   "cell_type": "code",
   "execution_count": null,
   "metadata": {},
   "outputs": [],
   "source": [
    "print(np.min(obs_hat_))\n",
    "print(np.max(obs_hat_))"
   ]
  },
  {
   "cell_type": "code",
   "execution_count": 2,
   "metadata": {},
   "outputs": [],
   "source": [
    "import pickle\n",
    "log_filename = '/home/david/git/imagination-augmented-agents-tf/results/20190119-221001/log.pkl'\n",
    "with open(log_filename, 'rb') as f:\n",
    "    loss, rec_loss, reg_loss = pickle.load(f)"
   ]
  },
  {
   "cell_type": "code",
   "execution_count": 4,
   "metadata": {},
   "outputs": [
    {
     "data": {
      "text/plain": [
       "[<matplotlib.lines.Line2D at 0x7fdcdce937f0>]"
      ]
     },
     "execution_count": 4,
     "metadata": {},
     "output_type": "execute_result"
    },
    {
     "data": {
      "image/png": "[encoded data removed]",
      "text/plain": [
       "<matplotlib.figure.Figure at 0x7fdcdefabf60>"
      ]
     },
     "metadata": {},
     "output_type": "display_data"
    }
   ],
   "source": [
    "import matplotlib.pyplot as plt\n",
    "%matplotlib inline\n",
    "plt.plot(loss)"
   ]
  },
  {
   "cell_type": "code",
   "execution_count": 7,
   "metadata": {},
   "outputs": [
    {
     "data": {
      "text/plain": [
       "1201"
      ]
     },
     "execution_count": 7,
     "metadata": {},
     "output_type": "execute_result"
    }
   ],
   "source": [
    "import numpy as np\n",
    "np.sum(loss>0)"
   ]
  }
 ],
 "metadata": {
  "anaconda-cloud": {},
  "kernelspec": {
   "display_name": "Python 3",
   "language": "python",
   "name": "python3"
  },
  "language_info": {
   "codemirror_mode": {
    "name": "ipython",
    "version": 3
   },
   "file_extension": ".py",
   "mimetype": "text/x-python",
   "name": "python",
   "nbconvert_exporter": "python",
   "pygments_lexer": "ipython3",
   "version": "3.6.3"
  }
 },
 "nbformat": 4,
 "nbformat_minor": 2
}
