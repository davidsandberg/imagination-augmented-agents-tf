{
 "cells": [
  {
   "cell_type": "code",
   "execution_count": 30,
   "metadata": {
    "collapsed": true
   },
   "outputs": [],
   "source": [
    "import pickle\n",
    "import numpy as np\n",
    "import matplotlib.pyplot as plt\n",
    "import matplotlib\n",
    "%matplotlib inline"
   ]
  },
  {
   "cell_type": "code",
   "execution_count": 6,
   "metadata": {
    "collapsed": true
   },
   "outputs": [],
   "source": [
    "def load_pickle(filename):\n",
    "    with open(filename, 'rb') as f:\n",
    "        arr = pickle.load(f)\n",
    "    return arr"
   ]
  },
  {
   "cell_type": "code",
   "execution_count": 27,
   "metadata": {},
   "outputs": [
    {
     "data": {
      "text/plain": [
       "(40, 20, 80, 80)"
      ]
     },
     "execution_count": 27,
     "metadata": {},
     "output_type": "execute_result"
    }
   ],
   "source": [
    "train = load_pickle('bouncing_balls_training_data.pkl')\n",
    "train.shape"
   ]
  },
  {
   "cell_type": "code",
   "execution_count": 31,
   "metadata": {},
   "outputs": [
    {
     "data": {
      "text/plain": [
       "<matplotlib.image.AxesImage at 0x7ff6057f1518>"
      ]
     },
     "execution_count": 31,
     "metadata": {},
     "output_type": "execute_result"
    },
    {
     "data": {
      "image/png": "[encoded data removed]",
      "text/plain": [
       "<matplotlib.figure.Figure at 0x7ff605966080>"
      ]
     },
     "metadata": {},
     "output_type": "display_data"
    }
   ],
   "source": [
    "plt.imshow(train[0,0,:,:],cmap=matplotlib.cm.Greys_r)"
   ]
  },
  {
   "cell_type": "code",
   "execution_count": 66,
   "metadata": {},
   "outputs": [
    {
     "data": {
      "text/plain": [
       "9.185257928430493"
      ]
     },
     "execution_count": 66,
     "metadata": {},
     "output_type": "execute_result"
    }
   ],
   "source": [
    "sigma0_vec = np.array([0.2, 0.4, 0.6])\n",
    "sigma0 = np.diag(sigma0_vec)\n",
    "mu0 = np.array([2, 4, 6])\n",
    "\n",
    "sigma1_vec = np.array([0.1, 0.3, 0.5])\n",
    "sigma1 = np.diag(sigma1_vec)\n",
    "mu1 = np.array([1, 3, 5])\n",
    "\n",
    "k = 0.333\n",
    "\n",
    "z1 = np.trace(np.matmul(np.linalg.inv(sigma1), sigma0))\n",
    "z2 = np.matmul(np.matmul(np.transpose(mu1-mu0), np.linalg.inv(sigma1)), (mu1-mu0))\n",
    "z3 = np.log(np.linalg.det(sigma1)/np.linalg.det(sigma0))\n",
    "Dkl = 0.5 * (z1 + z2 - k + z3)\n",
    "Dkl"
   ]
  },
  {
   "cell_type": "code",
   "execution_count": 69,
   "metadata": {},
   "outputs": [
    {
     "data": {
      "text/plain": [
       "4.533333333333333"
      ]
     },
     "execution_count": 69,
     "metadata": {},
     "output_type": "execute_result"
    }
   ],
   "source": [
    "z1"
   ]
  },
  {
   "cell_type": "code",
   "execution_count": 70,
   "metadata": {},
   "outputs": [
    {
     "data": {
      "text/plain": [
       "4.533333333333333"
      ]
     },
     "execution_count": 70,
     "metadata": {},
     "output_type": "execute_result"
    }
   ],
   "source": [
    "np.sum(1/sigma1_vec * sigma0_vec)"
   ]
  },
  {
   "cell_type": "code",
   "execution_count": 71,
   "metadata": {},
   "outputs": [
    {
     "data": {
      "text/plain": [
       "15.333333333333334"
      ]
     },
     "execution_count": 71,
     "metadata": {},
     "output_type": "execute_result"
    }
   ],
   "source": [
    "z2"
   ]
  },
  {
   "cell_type": "code",
   "execution_count": 72,
   "metadata": {},
   "outputs": [
    {
     "data": {
      "text/plain": [
       "15.333333333333334"
      ]
     },
     "execution_count": 72,
     "metadata": {},
     "output_type": "execute_result"
    }
   ],
   "source": [
    "np.sum((mu1-mu0)*1/sigma1_vec*(mu1-mu0))"
   ]
  },
  {
   "cell_type": "code",
   "execution_count": 73,
   "metadata": {},
   "outputs": [
    {
     "data": {
      "text/plain": [
       "-1.163150809805681"
      ]
     },
     "execution_count": 73,
     "metadata": {},
     "output_type": "execute_result"
    }
   ],
   "source": [
    "z3"
   ]
  },
  {
   "cell_type": "code",
   "execution_count": 74,
   "metadata": {},
   "outputs": [
    {
     "data": {
      "text/plain": [
       "-1.163150809805681"
      ]
     },
     "execution_count": 74,
     "metadata": {},
     "output_type": "execute_result"
    }
   ],
   "source": [
    "np.log(np.prod(sigma1_vec) / np.prod(sigma0_vec))"
   ]
  },
  {
   "cell_type": "code",
   "execution_count": 76,
   "metadata": {},
   "outputs": [
    {
     "data": {
      "text/plain": [
       "9.185257928430493"
      ]
     },
     "execution_count": 76,
     "metadata": {},
     "output_type": "execute_result"
    }
   ],
   "source": [
    "0.5 * (np.sum(1.0/sigma1_vec * sigma0_vec) + np.sum((mu1-mu0)*1/sigma1_vec*(mu1-mu0)) - k + np.log(np.prod(sigma1_vec) / np.prod(sigma0_vec)))"
   ]
  },
  {
   "cell_type": "code",
   "execution_count": 85,
   "metadata": {},
   "outputs": [
    {
     "name": "stdout",
     "output_type": "stream",
     "text": [
      "9.185258\n"
     ]
    }
   ],
   "source": [
    "import tensorflow as tf\n",
    "\n",
    "mu0 = tf.placeholder(tf.float32, shape=(3,))\n",
    "sigma0 = tf.placeholder(tf.float32, shape=(3,))\n",
    "mu1 = tf.placeholder(tf.float32, shape=(3,))\n",
    "sigma1 = tf.placeholder(tf.float32, shape=(3,))\n",
    "\n",
    "\n",
    "# https://en.wikipedia.org/wiki/Kullback%E2%80%93Leibler_divergence\n",
    "k = 0.0\n",
    "tf1 = tf.reduce_sum(1.0/sigma1 * sigma0)\n",
    "tf2 = tf.reduce_sum((mu1-mu0)*1.0/sigma1*(mu1-mu0))\n",
    "tf3 = tf.cast(tf.log(tf.reduce_prod(sigma1/sigma0)), tf.float32)\n",
    "Dkl = 0.5 * (tf1 + tf2 - k + tf3)\n",
    "\n",
    "with tf.Session() as sess:\n",
    "    \n",
    "    sigma0_vec = np.array([0.2, 0.4, 0.6])\n",
    "    mu0_vec = np.array([2, 4, 6])\n",
    "    sigma1_vec = np.array([0.1, 0.3, 0.5])\n",
    "    mu1_vec = np.array([1, 3, 5])\n",
    "\n",
    "    zz = sess.run(Dkl, feed_dict={mu0: mu0_vec, sigma0:sigma0_vec, mu1: mu1_vec, sigma1:sigma1_vec})\n",
    "    print(zz)"
   ]
  }
 ],
 "metadata": {
  "anaconda-cloud": {},
  "kernelspec": {
   "display_name": "Python 3",
   "language": "python",
   "name": "python3"
  },
  "language_info": {
   "codemirror_mode": {
    "name": "ipython",
    "version": 3
   },
   "file_extension": ".py",
   "mimetype": "text/x-python",
   "name": "python",
   "nbconvert_exporter": "python",
   "pygments_lexer": "ipython3",
   "version": "3.6.3"
  }
 },
 "nbformat": 4,
 "nbformat_minor": 2
}
